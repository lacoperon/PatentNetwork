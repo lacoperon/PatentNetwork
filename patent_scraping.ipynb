{
 "cells": [
  {
   "cell_type": "code",
   "execution_count": 56,
   "metadata": {},
   "outputs": [
    {
     "name": "stdout",
     "output_type": "stream",
     "text": [
      "50\n"
     ]
    }
   ],
   "source": [
    "import urllib\n",
    "import matplotlib\n",
    "import networkit\n",
    "from lxml import html\n",
    "import re\n",
    "\n",
    "\n",
    "def scrape_patent(url):      \n",
    "    \n",
    "    f = urllib.request.urlopen(url)\n",
    "    raw_html = f.read()\n",
    "    \n",
    "    m = re.search('<TABLE>.*</TABLE>', str(raw_html))\n",
    "    table_raw_html = m.group(0)\n",
    "    \n",
    "    doc = html.fromstring(table_raw_html)\n",
    "    \n",
    "    links = doc.xpath(\"//a/@href\")\n",
    "    links = list(set(links))\n",
    "    print(len(links))\n",
    "    \n",
    "scrape_patent(\"http://patft.uspto.gov/netacgi/nph-Parser?Sect1=PTO2&Sect2=HITOFF&p=1&u=%2Fnetahtml%2FPTO%2Fsearch-bool.html&r=0&f=S&l=50&TERM1=Apple&FIELD1=AANM&co1=AND&TERM2=&FIELD2=&d=PTXT\")"
   ]
  }
 ],
 "metadata": {
  "kernelspec": {
   "display_name": "Python 3",
   "language": "python",
   "name": "python3"
  },
  "language_info": {
   "codemirror_mode": {
    "name": "ipython",
    "version": 3
   },
   "file_extension": ".py",
   "mimetype": "text/x-python",
   "name": "python",
   "nbconvert_exporter": "python",
   "pygments_lexer": "ipython3",
   "version": "3.6.4"
  }
 },
 "nbformat": 4,
 "nbformat_minor": 2
}
