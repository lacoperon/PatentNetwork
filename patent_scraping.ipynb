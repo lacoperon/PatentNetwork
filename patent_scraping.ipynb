{
 "cells": [
  {
   "cell_type": "code",
   "execution_count": 7,
   "metadata": {},
   "outputs": [],
   "source": [
    "%load_ext rpy2.ipython"
   ]
  },
  {
   "cell_type": "markdown",
   "metadata": {},
   "source": [
    "# Analysis of Patent Network\n",
    "\n",
    "Elliot Williams<br>\n",
    "March 24, 2018<br>\n",
    "Web Scraping w. Prof. Oleinikov\n",
    "\n",
    "## Brief Description\n",
    "\n",
    "For my final project, I wrote a scraper for the US Patent and Trademark Office's [Patent Database](http://patft.uspto.gov/). The website accepts searches for patents held by a particular company, and returns the results for a particular US Patent Collection search as a very poorly formatted HTML doc, which makes scraping the website particularly time consuming. The scraper itself was written in Python 3, utilizing the urllib, lxml, re, and time libraries. \n"
   ]
  },
  {
   "cell_type": "markdown",
   "metadata": {},
   "source": [
    "## The Scraper\n",
    "\n",
    "The code below scrapes the links associated with all registed patents for each of the technology companies:\n",
    "Apple, Facebook, Google, Snap, Uber, Twitter, IBM, Amazon, and Microsoft"
   ]
  },
  {
   "cell_type": "code",
   "execution_count": 4,
   "metadata": {},
   "outputs": [
    {
     "name": "stdout",
     "output_type": "stream",
     "text": [
      "Scraping patents from Apple\n",
      "Scraping patents from Facebook\n",
      "Scraping patents from Google\n",
      "Scraping patents from Snap\n",
      "Scraping patents from Uber\n",
      "Scraping patents from Twitter\n",
      "Scraping patents from IBM\n",
      "Scraping patents from Amazon\n",
      "Scraping patents from Microsoft\n"
     ]
    }
   ],
   "source": [
    "import urllib\n",
    "from lxml import html\n",
    "import re\n",
    "import time\n",
    "\n",
    "\n",
    "def scrape_patent(url):      \n",
    "    \n",
    "    f = urllib.request.urlopen(url)\n",
    "    raw_html = f.read()\n",
    "    \n",
    "    # The HTML is formatted weird on the site, which lets us\n",
    "    # use regex to get only the table with patents inside\n",
    "    m = re.search('<TABLE>.*</TABLE>', str(raw_html))\n",
    "    table_raw_html = m.group(0)\n",
    "    \n",
    "    doc = html.fromstring(table_raw_html)\n",
    "    \n",
    "    links = doc.xpath(\"//a/@href\")\n",
    "    links = list(set(links))\n",
    "    return(url, links)\n",
    "    \n",
    "\n",
    "    \n",
    "def scrape_patents_from_company(company):\n",
    "    # Note that we can generate any arbitrary page of results by modifying the p parameter    \n",
    "    link_list = []\n",
    "    p = 1\n",
    "    num_error = 0\n",
    "    print(\"Scraping patents from {}\".format(company))\n",
    "    while True:\n",
    "        try:\n",
    "            current_url = \"http://patft.uspto.gov/netacgi/nph-Parser?Sect1=PTO2&Sect2=HITOFF&p={}&u=%2Fnetahtml%2FPTO%2Fsearch-bool.html&r=0&f=S&l=50&TERM1={}&FIELD1=AANM&co1=AND&TERM2=&FIELD2=&d=PTXT\".format(p, company)\n",
    "            curr_url, more_links = scrape_patent(current_url)\n",
    "            link_list += more_links\n",
    "            p += 1\n",
    "            num_error = 0\n",
    "            time.sleep(0.05)\n",
    "        except Exception:\n",
    "            num_error += 1\n",
    "            time.sleep(5)\n",
    "            # Assuming that the scraper can't scrape results 5 times running,\n",
    "            # it's fair to say there are no more results.\n",
    "            if num_error > 5:\n",
    "                break\n",
    "                \n",
    "    return link_list\n",
    "\n",
    "apple_patents = scrape_patents_from_company(\"Apple\")\n",
    "fb_patents = scrape_patents_from_company(\"Facebook\")    \n",
    "google_patents = scrape_patents_from_company(\"Google\")\n",
    "snap_patents = scrape_patents_from_company(\"Snap\")\n",
    "uber_patents = scrape_patents_from_company(\"Uber\")\n",
    "twitter_patents = scrape_patents_from_company(\"Twitter\")\n",
    "ibm_patents = scrape_patents_from_company(\"IBM\")\n",
    "amazon_patents = scrape_patents_from_company(\"Amazon\")\n",
    "microsoft_patents = scrape_patents_from_company(\"Microsoft\")"
   ]
  },
  {
   "cell_type": "markdown",
   "metadata": {},
   "source": [
    "Now, let's format that data into a pandas dataframe (which we can then import into R and plot using ggplot)"
   ]
  },
  {
   "cell_type": "code",
   "execution_count": 5,
   "metadata": {},
   "outputs": [],
   "source": [
    "import pandas as pd\n",
    "\n",
    "company_list = [\"Apple\", \"Facebook\", \"Google\", \"Snap\", \"Uber\", \"Twitter\", \"IBM\", \"Amazon\", \"Microsoft\"]\n",
    "num_patent_list = [apple_patents, fb_patents, google_patents, snap_patents, uber_patents, twitter_patents, ibm_patents, amazon_patents, microsoft_patents]\n",
    "num_patent_list = [len(x) for x in num_patent_list]\n",
    "df = pd.DataFrame({\"company\": company_list, \"patents\":num_patent_list})\n"
   ]
  },
  {
   "cell_type": "markdown",
   "metadata": {},
   "source": [
    "... and let's graph the data"
   ]
  },
  {
   "cell_type": "code",
   "execution_count": 35,
   "metadata": {},
   "outputs": [
    {
     "data": {
      "image/png": "[encoded data removed]"
     },
     "metadata": {},
     "output_type": "display_data"
    }
   ],
   "source": [
    "%%R -i df -w 800\n",
    "\n",
    "library(ggplot2)\n",
    "df$company <- factor(df$company, levels = df$company[order(df$patents)])\n",
    "ggplot(df, aes(x=company, y=patents, fill=company)) + geom_bar(stat=\"identity\") + coord_flip() +\n",
    "    theme(legend.position=\"\") + labs(y=\"Number of Patents Held\", x=\"Company\",\n",
    "                                     title=\"Patents Held by Technology Companies in the US\")"
   ]
  },
  {
   "cell_type": "code",
   "execution_count": 29,
   "metadata": {},
   "outputs": [],
   "source": [
    "def randomly_sample_outdegrees_and_dates(link_list, num_samples):\n",
    "    patent_outdegrees = []\n",
    "    patent_dates = []\n",
    "    for i in range(num_samples):\n",
    "        try:\n",
    "            # Constructs url with base path to get HTML from\n",
    "            url = \"http://patft.uspto.gov/\" + link_list[i]\n",
    "            f = urllib.request.urlopen(url)\n",
    "            # Rate limiting sleep -- to avoid bot detection\n",
    "            time.sleep(1)\n",
    "            raw_html = f.read()\n",
    "            \n",
    "            # Gets Issued: date (if extant -- some patents have no record in the DB)\n",
    "            date_regex = \"((January|February|March|April|May|June|July|August|September|October|November|December) [0-9]{2}, [0-9]{4})\"\n",
    "            date = \"\"\n",
    "            try:\n",
    "                m = re.findall(date_regex, str(raw_html))\n",
    "                if len(m) > 1:\n",
    "                    date = [x[0] for x in m][1] # Second date corresponds to filing date, if it exists\n",
    "                patent_dates.append(date)\n",
    "            except Exception as e:\n",
    "                print(e)\n",
    "            \n",
    "            doc = html.fromstring(raw_html)\n",
    "\n",
    "            # Scrapes all outgoing patents links associated with the particular patent document for `url`\n",
    "            outgoing_patents = doc.xpath(\"//table//a/@href\")\n",
    "            elements = [elt for elt in outgoing_patents]\n",
    "            elements = [elt for elt in elements if \"netacgi/nph-Parser\" in elt]\n",
    "            \n",
    "            # ... and appends the number of these outgoing links to the patent_outdegrees list\n",
    "            patent_outdegrees.append(len(elements))\n",
    "        except Exception as e:\n",
    "            print(e)\n",
    "            \n",
    "    return pd.DataFrame({\"outdegree\":patent_outdegrees, \"date\":patent_dates})\n",
    "        \n",
    "    \n",
    "# Note: This totally works, but you can't turn up the scraping rate without being flagged as a bot by the site.\n",
    "# So, despite the fact that it takes forever to run for a reasonable amount of articles, we just need to accept it...\n",
    "# (Or learn to be patient)\n",
    "amazon_od_df = randomly_sample_outdegrees_and_dates(amazon_patents, 100)\n",
    "facebook_od_df = randomly_sample_outdegrees_and_dates(fb_patents, 100)\n",
    "google_od_df = randomly_sample_outdegrees_and_dates(google_patents, 100)\n",
    "apple_od_df = randomly_sample_outdegrees_and_dates(apple_patents, 100)\n",
    "microsoft_od_df = randomly_sample_outdegrees_and_dates(microsoft_patents, 100)"
   ]
  },
  {
   "cell_type": "code",
   "execution_count": 30,
   "metadata": {},
   "outputs": [],
   "source": [
    "amazon_average_outdeg = sum(amazon_od_df['outdegree']) / len(amazon_od_df['outdegree'])\n",
    "google_average_outdeg = sum(google_od_df['outdegree']) / len(google_od_df['outdegree'])\n",
    "facebook_average_outdeg = sum(facebook_od_df['outdegree']) / len(facebook_od_df['outdegree'])\n",
    "apple_average_outdeg = sum(apple_od_df['outdegree']) / len(apple_od_df['outdegree'])\n",
    "microsoft_average_outdeg = sum(microsoft_od_df['outdegree']) / len(microsoft_od_df['outdegree'])\n",
    "\n",
    "bigFiveNames = [\"Amazon\", \"Google\", \"Facebook\", \"Apple\", \"Microsoft\"]\n",
    "bigFiveOutdeg = [amazon_average_outdeg, google_average_outdeg, facebook_average_outdeg, apple_average_outdeg, microsoft_average_outdeg]\n",
    "df2 = pd.DataFrame({\"company\": bigFiveNames, \"patentoutdeg\":bigFiveOutdeg})"
   ]
  },
  {
   "cell_type": "code",
   "execution_count": 34,
   "metadata": {},
   "outputs": [
    {
     "data": {
      "image/png": "[encoded data removed]"
     },
     "metadata": {},
     "output_type": "display_data"
    }
   ],
   "source": [
    "%%R -i df2 -w 800\n",
    "\n",
    "library(ggplot2)\n",
    "df2$company <- factor(df2$company, levels = df2$company[order(df2$patentoutdeg)])\n",
    "ggplot(df2, aes(x=company, y=patentoutdeg, fill=company)) + geom_bar(stat=\"identity\") + coord_flip() +\n",
    "    theme(legend.position=\"\") + labs(y=\"Patents Referenced in Average Patent\", x=\"Company\",\n",
    "                                     title=\"Average Patent Outdegree for Big Five Tech Companies\",\n",
    "                                     subtitle=\"For 100 randomly sampled patents\")"
   ]
  },
  {
   "cell_type": "code",
   "execution_count": 33,
   "metadata": {},
   "outputs": [],
   "source": [
    "%%R\n",
    "\n",
    "library(readr)\n",
    "write_csv(df, \"./tech_comp_num_patents.csv\")\n",
    "write_csv(df2, \"./bigfive_patent_outdeg.csv\")"
   ]
  }
 ],
 "metadata": {
  "kernelspec": {
   "display_name": "Python 3",
   "language": "python",
   "name": "python3"
  },
  "language_info": {
   "codemirror_mode": {
    "name": "ipython",
    "version": 3
   },
   "file_extension": ".py",
   "mimetype": "text/x-python",
   "name": "python",
   "nbconvert_exporter": "python",
   "pygments_lexer": "ipython3",
   "version": "3.6.4"
  }
 },
 "nbformat": 4,
 "nbformat_minor": 2
}
